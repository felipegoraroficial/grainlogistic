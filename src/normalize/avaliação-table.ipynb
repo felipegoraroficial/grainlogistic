{
 "cells": [
  {
   "cell_type": "code",
   "execution_count": 0,
   "metadata": {
    "application/vnd.databricks.v1+cell": {
     "cellMetadata": {
      "byteLimit": 2048000,
      "rowLimit": 10000
     },
     "inputWidgets": {},
     "nuid": "d12693c8-8ae7-475c-a576-093a1fc1fb45",
     "showTitle": false,
     "tableResultSettingsMap": {},
     "title": ""
    }
   },
   "outputs": [],
   "source": [
    "\n",
    "df = spark.sql(\"\"\"\n",
    "SELECT * \n",
    "FROM delta.`/Volumes/grainlogistic/grain/gold`\n",
    "\"\"\")\n",
    "\n",
    "df.createOrReplaceTempView(\"_sqldf\")"
   ]
  },
  {
   "cell_type": "code",
   "execution_count": 0,
   "metadata": {
    "application/vnd.databricks.v1+cell": {
     "cellMetadata": {
      "byteLimit": 2048000,
      "implicitDf": true,
      "rowLimit": 10000
     },
     "inputWidgets": {},
     "nuid": "c8f2005e-c3e4-4292-832a-02d81d76b9e8",
     "showTitle": false,
     "tableResultSettingsMap": {},
     "title": ""
    }
   },
   "outputs": [],
   "source": [
    "%sql\n",
    "CREATE OR REPLACE TABLE `grainlogistic`.`grain`.`cliente` AS\n",
    "SELECT \n",
    "    id_envio,\n",
    "    genero,\n",
    "    `ligações_do_cliente`,\n",
    "    `avaliação_do_cliente`,\n",
    "    Chegou_no_tempo,\n",
    "    avaliacaoEntrega\n",
    "FROM (\n",
    "    SELECT \n",
    "        id_envio,\n",
    "        genero,\n",
    "        `ligações_do_cliente`,\n",
    "        `avaliação_do_cliente`,\n",
    "        Chegou_no_tempo,\n",
    "        avaliacaoEntrega,\n",
    "        data_ref,\n",
    "        ROW_NUMBER() OVER (PARTITION BY id_envio ORDER BY data_ref DESC) AS rn\n",
    "    FROM `_sqldf`\n",
    ")\n",
    "WHERE rn = 1\n",
    "ORDER BY id_envio"
   ]
  }
 ],
 "metadata": {
  "application/vnd.databricks.v1+notebook": {
   "computePreferences": null,
   "dashboards": [],
   "environmentMetadata": {
    "base_environment": "",
    "environment_version": "2"
   },
   "inputWidgetPreferences": null,
   "language": "python",
   "notebookMetadata": {
    "mostRecentlyExecutedCommandWithImplicitDF": {
     "commandId": 3644014119660398,
     "dataframes": [
      "_sqldf"
     ]
    },
    "pythonIndentUnit": 4
   },
   "notebookName": "avaliação-table",
   "widgets": {}
  },
  "language_info": {
   "name": "python"
  }
 },
 "nbformat": 4,
 "nbformat_minor": 0
}
