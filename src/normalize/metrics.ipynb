{
 "cells": [
  {
   "cell_type": "code",
   "execution_count": 0,
   "metadata": {
    "application/vnd.databricks.v1+cell": {
     "cellMetadata": {
      "byteLimit": 2048000,
      "implicitDf": true,
      "rowLimit": 10000
     },
     "inputWidgets": {},
     "nuid": "71b7a0ae-ca8f-44a2-978c-e98f290d67c2",
     "showTitle": false,
     "tableResultSettingsMap": {},
     "title": ""
    }
   },
   "outputs": [],
   "source": [
    "%sql\n",
    "CREATE OR REPLACE VIEW grainlogistic.grain.shipp_location AS\n",
    "SELECT Destino, COUNT(id_envio) AS quantidade_id_envio\n",
    "FROM grainlogistic.grain.envio\n",
    "GROUP BY Destino"
   ]
  },
  {
   "cell_type": "code",
   "execution_count": 0,
   "metadata": {
    "application/vnd.databricks.v1+cell": {
     "cellMetadata": {
      "byteLimit": 2048000,
      "implicitDf": true,
      "rowLimit": 10000
     },
     "inputWidgets": {},
     "nuid": "b19589b8-e4e2-4b73-9496-89a37cdb16a0",
     "showTitle": false,
     "tableResultSettingsMap": {},
     "title": ""
    }
   },
   "outputs": [],
   "source": [
    "%sql\n",
    "CREATE OR REPLACE VIEW grainlogistic.grain.shipp_ondemand_rating AS\n",
    "SELECT \n",
    "    c.id_envio, \n",
    "    CASE \n",
    "        WHEN c.Chegou_no_tempo = 0 THEN 'Não' \n",
    "        WHEN c.Chegou_no_tempo = 1 THEN 'Sim' \n",
    "    END AS Chegou_no_tempo, \n",
    "    c.avaliacaoEntrega,\n",
    "    e.duracao_envio\n",
    "FROM \n",
    "    grainlogistic.grain.cliente c\n",
    "JOIN \n",
    "    grainlogistic.grain.envio e\n",
    "ON \n",
    "    c.id_envio = e.id_envio\n",
    "ORDER BY \n",
    "    c.avaliacaoEntrega DESC"
   ]
  },
  {
   "cell_type": "code",
   "execution_count": 0,
   "metadata": {
    "application/vnd.databricks.v1+cell": {
     "cellMetadata": {
      "byteLimit": 2048000,
      "implicitDf": true,
      "rowLimit": 10000
     },
     "inputWidgets": {},
     "nuid": "523db953-b720-45ea-baf7-0fb9fcbce396",
     "showTitle": false,
     "tableResultSettingsMap": {},
     "title": ""
    }
   },
   "outputs": [],
   "source": [
    "%sql\n",
    "CREATE OR REPLACE VIEW grainlogistic.grain.blling_evolution AS\n",
    "SELECT\n",
    "  dataEntrega,\n",
    "  preco_total,\n",
    "  SUM(preco_total) OVER (ORDER BY dataEntrega ASC ROWS BETWEEN UNBOUNDED PRECEDING AND CURRENT ROW) AS preco_acumulado\n",
    "FROM (\n",
    "  SELECT\n",
    "    e.dataEntrega,\n",
    "    SUM(p.`preço`) AS preco_total\n",
    "  FROM\n",
    "    grainlogistic.grain.envio AS e\n",
    "  JOIN\n",
    "    grainlogistic.grain.produto AS p\n",
    "  ON\n",
    "    e.id_envio = p.id_envio\n",
    "  GROUP BY\n",
    "    e.dataEntrega\n",
    ") t\n",
    "ORDER BY\n",
    "  dataEntrega ASC"
   ]
  }
 ],
 "metadata": {
  "application/vnd.databricks.v1+notebook": {
   "computePreferences": null,
   "dashboards": [],
   "environmentMetadata": {
    "base_environment": "",
    "environment_version": "2"
   },
   "inputWidgetPreferences": null,
   "language": "python",
   "notebookMetadata": {
    "mostRecentlyExecutedCommandWithImplicitDF": {
     "commandId": 6696733575288280,
     "dataframes": [
      "_sqldf"
     ]
    },
    "pythonIndentUnit": 4
   },
   "notebookName": "metrics",
   "widgets": {}
  },
  "language_info": {
   "name": "python"
  }
 },
 "nbformat": 4,
 "nbformat_minor": 0
}
