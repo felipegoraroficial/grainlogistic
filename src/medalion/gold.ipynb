{
 "cells": [
  {
   "cell_type": "code",
   "execution_count": 0,
   "metadata": {
    "application/vnd.databricks.v1+cell": {
     "cellMetadata": {
      "byteLimit": 2048000,
      "rowLimit": 10000
     },
     "inputWidgets": {},
     "nuid": "e5288de3-0200-4b8a-a632-328322b183f5",
     "showTitle": false,
     "tableResultSettingsMap": {},
     "title": ""
    }
   },
   "outputs": [],
   "source": [
    "from pyspark.sql.types import StructType, StructField, StringType, DoubleType, DateType, LongType \n",
    "from pyspark.sql import SparkSession\n",
    "from pyspark.dbutils import DBUtils\n",
    "import requests\n",
    "from datetime import datetime\n",
    "from pyspark.sql.functions import when, col, round, max, datediff"
   ]
  },
  {
   "cell_type": "code",
   "execution_count": 0,
   "metadata": {
    "application/vnd.databricks.v1+cell": {
     "cellMetadata": {
      "byteLimit": 2048000,
      "rowLimit": 10000
     },
     "inputWidgets": {},
     "nuid": "cc1c727c-66e6-41c6-a948-62a16d39f5aa",
     "showTitle": false,
     "tableResultSettingsMap": {},
     "title": ""
    }
   },
   "outputs": [],
   "source": [
    "%run /Workspace/Admin/src/spark_performance"
   ]
  },
  {
   "cell_type": "code",
   "execution_count": 0,
   "metadata": {
    "application/vnd.databricks.v1+cell": {
     "cellMetadata": {
      "byteLimit": 2048000,
      "rowLimit": 10000
     },
     "inputWidgets": {},
     "nuid": "7bfb655a-1664-461f-9cfa-1c97045230e3",
     "showTitle": false,
     "tableResultSettingsMap": {},
     "title": ""
    },
    "jupyter": {
     "outputs_hidden": true
    }
   },
   "outputs": [],
   "source": [
    "def carregando_ultima_partition(nome_tabela, coluna_particao):\n",
    "\n",
    "    schema = StructType([\n",
    "        StructField(\"id_envio\", LongType(), nullable=True),\n",
    "        StructField(\"corredor_de_armazenagem\", StringType(), nullable=True),\n",
    "        StructField(\"metodo_de_envio\", StringType(), nullable=True),\n",
    "        StructField(\"ligações_do_cliente\", LongType(), nullable=True),\n",
    "        StructField(\"avaliação_do_cliente\", LongType(), nullable=True),\n",
    "        StructField(\"preço\", LongType(), nullable=True),\n",
    "        StructField(\"qtd_itens\", LongType(), nullable=True),\n",
    "        StructField(\"importancia\", StringType(), nullable=True),\n",
    "        StructField(\"genero\", StringType(), nullable=True),\n",
    "        StructField(\"desconto\", LongType(), nullable=True),\n",
    "        StructField(\"peso_g\", LongType(), nullable=True),\n",
    "        StructField(\"Chegou_no_tempo\", LongType(), nullable=True),\n",
    "        StructField(\"Destino\", StringType(), nullable=True),\n",
    "        StructField(\"DataEnvio\", DateType(), nullable=True),\n",
    "        StructField(\"dataEntrega\", DateType(), nullable=True),\n",
    "        StructField(\"avaliacaoEntrega\", StringType(), nullable=True),\n",
    "        StructField(\"data_ref\", StringType(), True)\n",
    "    ])\n",
    "\n",
    "    print(f\"Tentando ler arquivo Delta de: {nome_tabela}\")\n",
    "    \n",
    "    spark = SparkSession.builder.getOrCreate()\n",
    "    dbutils = DBUtils(spark) \n",
    "\n",
    "    # 1- Listando arquivos Delta no Volume Bronze\n",
    "    print(f\"\\n--- Verificação do caminho Volume Bronze ---\")\n",
    "    try:\n",
    "        dbutils.fs.ls(nome_tabela)\n",
    "        print(f\"STATUS OK - Caminho '{nome_tabela}' existe. Tentando carregar como Delta.\")\n",
    "    except Exception as e:\n",
    "        print(f\"STATUS ALERTA - O caminho '{nome_tabela}' não existe ou não é acessível. Detalhe: {e}. Gerando um DataFrame vazio.\")\n",
    "        print(\"\\nRetornando um dataframe vazio!\")\n",
    "        # Em caso de erro, retorne um dataframe vazio com o schema definido anteriormente\n",
    "        return spark.createDataFrame([], schema=schema)\n",
    "    \n",
    "    # 2-  Recuperar partições existentes\n",
    "    try:\n",
    "        df = spark.read.format(\"delta\").load(nome_tabela)\n",
    "    except Exception as e:\n",
    "        print(f\"STATUS ALERTA - Erro ao acessar a tabela '{nome_tabela}': {e}\")\n",
    "\n",
    "    try:\n",
    "\n",
    "        ultima_particao_df = df.select(max(coluna_particao).alias(\"ultima_particao\"))\n",
    "        \n",
    "        ultima_particao = (\n",
    "            ultima_particao_df.first()[\"ultima_particao\"]\n",
    "            if ultima_particao_df.first()\n",
    "            else None\n",
    "        )\n",
    "\n",
    "    except Exception as e:\n",
    "        print(f\"STATUS ALERTA - Erro ao obter última partição da tabela '{nome_tabela}': {e}\")\n",
    "\n",
    "    # 3- Tentando ler o arquivo Delta do Volume Bronze\n",
    "    print(f\"\\n--- Verificação da leitura do arquivo Delta ---\")\n",
    "    try:\n",
    "\n",
    "        filtro = f\"{coluna_particao} = '{ultima_particao}'\"\n",
    "\n",
    "        df = spark.read.format(\"delta\").load(nome_tabela) \\\n",
    "                .where(filtro)\n",
    "        print(f\"STATUS OK - Tabela Delta '{nome_tabela}' carregada com sucesso pela partição: {ultima_particao}.\")\n",
    "\n",
    "    except Exception as e:\n",
    "        # Em caso de erro, retorne um dataframe vazio com o schema definido anteriormente\n",
    "        print(f\"STATUS ALERTA - Erro ao carregar a tabela Delta '{nome_tabela}'. Provavelmente não é uma tabela Delta válida ou não contém dados. Detalhe do erro: {e}\")\n",
    "        print(\"\\nRetornando um dataframe vazio!\")\n",
    "        return spark.createDataFrame([], schema=schema)\n",
    "    \n",
    "    # 4- Verificando se o dataframe está vazio\n",
    "    # Em caso positivo, retorne um dataframe vazio com o schema definido anteriormente\n",
    "    print(f\"\\n--- Verificação se arquivo Delta está vazio ---\")\n",
    "    if df.rdd.isEmpty():\n",
    "        print(f\"STATUS ALERTA - Tabela '{nome_tabela}' foi carregada como Delta VÁLIDA, mas está completamente vazia. Retornando DataFrame vazio com o schema definido.\")\n",
    "        print(\"\\nRetornando um dataframe vazio!\")\n",
    "        return spark.createDataFrame([], schema=schema)\n",
    "    else:\n",
    "        print(f\"STATUS OK - Tabela Delta '{nome_tabela}' não está vazio.\")\n",
    "        return df\n",
    "\n",
    "\n",
    "# Caminho para a external location do diretório silver\n",
    "silver_path = f\"/Volumes/grainlogistic/grain/silver/\"\n",
    "\n",
    "# Lendo arquivo Delta do diretório silver pela ultima partição\n",
    "df = carregando_ultima_partition(silver_path, \"data_ref\")"
   ]
  },
  {
   "cell_type": "code",
   "execution_count": 0,
   "metadata": {
    "application/vnd.databricks.v1+cell": {
     "cellMetadata": {
      "byteLimit": 2048000,
      "rowLimit": 10000
     },
     "inputWidgets": {},
     "nuid": "fdb4631d-9b7e-4f63-8bed-645554c2019a",
     "showTitle": false,
     "tableResultSettingsMap": {},
     "title": ""
    }
   },
   "outputs": [],
   "source": [
    "df = df.withColumn(\"valor_unitario\", round((col(\"preço\") + col(\"desconto\")) / col(\"qtd_itens\"), 2))"
   ]
  },
  {
   "cell_type": "code",
   "execution_count": 0,
   "metadata": {
    "application/vnd.databricks.v1+cell": {
     "cellMetadata": {
      "byteLimit": 2048000,
      "rowLimit": 10000
     },
     "inputWidgets": {},
     "nuid": "13cad461-a62c-4a03-b725-ba08b1e124ca",
     "showTitle": false,
     "tableResultSettingsMap": {},
     "title": ""
    }
   },
   "outputs": [],
   "source": [
    "df = df.withColumn(\n",
    "    \"percentual_desconto\",\n",
    "    when(\n",
    "        col(\"preço\") != 0,\n",
    "        round((col(\"desconto\") / col(\"preço\")) * 100, 2)\n",
    "    ).otherwise(None)\n",
    ")"
   ]
  },
  {
   "cell_type": "code",
   "execution_count": 0,
   "metadata": {
    "application/vnd.databricks.v1+cell": {
     "cellMetadata": {
      "byteLimit": 2048000,
      "rowLimit": 10000
     },
     "inputWidgets": {},
     "nuid": "e3a999c3-6df6-460c-a498-809b2252861c",
     "showTitle": false,
     "tableResultSettingsMap": {},
     "title": ""
    }
   },
   "outputs": [],
   "source": [
    "df = df.withColumn(\"duracao_envio\", datediff(col(\"dataEntrega\"), col(\"DataEnvio\")))"
   ]
  },
  {
   "cell_type": "code",
   "execution_count": 0,
   "metadata": {
    "application/vnd.databricks.v1+cell": {
     "cellMetadata": {
      "byteLimit": 2048000,
      "rowLimit": 10000
     },
     "inputWidgets": {},
     "nuid": "65e694c5-471f-471f-8e11-9f70d01b0032",
     "showTitle": false,
     "tableResultSettingsMap": {},
     "title": ""
    }
   },
   "outputs": [],
   "source": [
    "from pyspark.sql.functions import avg, col, round\n",
    "\n",
    "df = df.withColumn(\n",
    "    \"avaliação_final\",\n",
    "    round((col(\"avaliação_do_cliente\") + col(\"avaliacaoEntrega\")) / 2, 2)\n",
    ")"
   ]
  },
  {
   "cell_type": "code",
   "execution_count": 0,
   "metadata": {
    "application/vnd.databricks.v1+cell": {
     "cellMetadata": {
      "byteLimit": 2048000,
      "rowLimit": 10000
     },
     "inputWidgets": {},
     "nuid": "ef0309ea-19fd-4beb-bbd3-d901e7fe4743",
     "showTitle": false,
     "tableResultSettingsMap": {},
     "title": ""
    }
   },
   "outputs": [],
   "source": [
    "def carregando_tabela_gold(df,delta_table_path):\n",
    "\n",
    "    print(f\"Iniciando o salvamento do DataFrame no formato Delta em: {delta_table_path}\")\n",
    "\n",
    "    try:\n",
    "        # 1- Obter a contagem de linhas ANTES de salvar ---\n",
    "        num_rows_to_save = df.count()\n",
    "        print(f\"Número de linhas no DataFrame a ser salvo: {num_rows_to_save}\")\n",
    "\n",
    "        # 2- Salvar o DataFrame no formato Delta ---\n",
    "        df.write \\\n",
    "                        .format(\"delta\") \\\n",
    "                        .mode(\"overwrite\") \\\n",
    "                        .partitionBy(\"data_ref\") \\\n",
    "                        .save(delta_table_path)\n",
    "\n",
    "        print(f\"DataFrame salvo com sucesso como tabela Delta particionada por 'extract' em: {delta_table_path}\")\n",
    "\n",
    "        # Início das Verificações de Qualidade Pós-Gravação \n",
    "\n",
    "        # 3- Garantir que os dados foram salvos no caminho\n",
    "        print(f\"\\n--- Verificação: Leitura da Tabela Delta Salva ---\")\n",
    "        df_delta_read = spark.read.format(\"delta\").load(delta_table_path)\n",
    "        print(\"Esquema da tabela Delta lida:\")\n",
    "        df_delta_read.printSchema()\n",
    "        num_rows_saved = df_delta_read.count()\n",
    "\n",
    "        if df_delta_read.isEmpty():\n",
    "            print(f\"STATUS ALERTA - A tabela Delta salva em '{delta_table_path}' está vazia ou não pôde ser lida.\")\n",
    "        else:\n",
    "            print(f\"STATUS OK - A tabela Delta foi lida com sucesso de '{delta_table_path}' com {num_rows_saved} linhas recarregadas.\")\n",
    "\n",
    "\n",
    "    except Exception as e:\n",
    "        print(f\"Ocorreu um erro geral ao salvar ou verificar a tabela Delta: {e}\")\n",
    "\n",
    "\n",
    "# Caminho para a external location do diretório gold\n",
    "gold_path = f\"/Volumes/grainlogistic/grain/gold\"\n",
    "\n",
    "# Sobreescrevendo dados particionados no diretório gold\n",
    "carregando_tabela_gold(df, gold_path)"
   ]
  }
 ],
 "metadata": {
  "application/vnd.databricks.v1+notebook": {
   "computePreferences": null,
   "dashboards": [],
   "environmentMetadata": {
    "base_environment": "",
    "environment_version": "2"
   },
   "inputWidgetPreferences": null,
   "language": "python",
   "notebookMetadata": {
    "pythonIndentUnit": 4
   },
   "notebookName": "gold",
   "widgets": {}
  },
  "language_info": {
   "name": "python"
  }
 },
 "nbformat": 4,
 "nbformat_minor": 0
}
